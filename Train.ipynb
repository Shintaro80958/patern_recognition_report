{
 "cells": [
  {
   "cell_type": "markdown",
   "id": "81e258ba-6406-4c5f-8a87-86514e600646",
   "metadata": {},
   "source": [
    "# オートエンコーダーの訓練"
   ]
  },
  {
   "cell_type": "markdown",
   "id": "9fca8254-60a0-4170-817c-3d63ffdf1576",
   "metadata": {},
   "source": [
    "## import"
   ]
  },
  {
   "cell_type": "code",
   "execution_count": 4,
   "id": "f0048a36-d5c5-4977-ad33-112259ac900a",
   "metadata": {},
   "outputs": [],
   "source": [
    "import torch\n",
    "import torch.nn as nn\n",
    "import torch.nn.functional as F\n",
    "import torchvision\n",
    "import torchvision.transforms as transforms\n",
    "from torch.utils.data import DataLoader\n",
    "from torchvision.datasets import MNIST\n",
    "import matplotlib.pyplot as plt\n",
    "import numpy as np\n",
    "import pandas as pd"
   ]
  },
  {
   "cell_type": "markdown",
   "id": "b2292fc6-d469-4cfb-9963-64a61143bb75",
   "metadata": {},
   "source": [
    "## データセットの準備"
   ]
  },
  {
   "cell_type": "code",
   "execution_count": 5,
   "id": "11da424f-93c4-441a-a3dc-bf6f0d8419d7",
   "metadata": {},
   "outputs": [
    {
     "name": "stdout",
     "output_type": "stream",
     "text": [
      "Downloading http://yann.lecun.com/exdb/mnist/train-images-idx3-ubyte.gz\n",
      "Downloading http://yann.lecun.com/exdb/mnist/train-labels-idx1-ubyte.gz\n",
      "Downloading http://yann.lecun.com/exdb/mnist/t10k-images-idx3-ubyte.gz\n",
      "Downloading http://yann.lecun.com/exdb/mnist/t10k-labels-idx1-ubyte.gz\n",
      "Processing\n",
      "Done!\n",
      "train data size:  48000\n",
      "train iteration number:  480\n",
      "val data size:  12000\n",
      "val iteration number:  120\n"
     ]
    }
   ],
   "source": [
    "BATCH_SIZE = 100\n",
    "\n",
    "\n",
    "# 前処理\n",
    "transform = transforms.Compose([transforms.ToTensor(),\n",
    "                                transforms.Normalize((0.5,), (0.5,))])\n",
    "\n",
    "trainval_data = MNIST(\"./data\", train=True, download=True, transform=transform)\n",
    "\n",
    "train_size = int(len(trainval_data) * 0.8)\n",
    "val_size = int(len(trainval_data) * 0.2)\n",
    "train_data, val_data = torch.utils.data.random_split(trainval_data, [train_size, val_size])\n",
    "\n",
    "train_loader = DataLoader(dataset=train_data,\n",
    "                          batch_size=BATCH_SIZE,\n",
    "                          shuffle=True,\n",
    "                          num_workers=0)\n",
    "\n",
    "val_loader = DataLoader(dataset=val_data,\n",
    "                        batch_size=BATCH_SIZE,\n",
    "                        shuffle=True,\n",
    "                        num_workers=0)\n",
    "\n",
    "print(\"train data size: \",len(train_data))   \n",
    "print(\"train iteration number: \",len(train_data)//BATCH_SIZE)   \n",
    "print(\"val data size: \",len(val_data))   \n",
    "print(\"val iteration number: \",len(val_data)//BATCH_SIZE)   \n"
   ]
  },
  {
   "cell_type": "markdown",
   "id": "67952fa4-3cc5-4ad1-b05f-2474e95e816d",
   "metadata": {
    "jp-MarkdownHeadingCollapsed": true
   },
   "source": [
    "## モデルの実装"
   ]
  },
  {
   "cell_type": "code",
   "execution_count": 6,
   "id": "04e57384-31e0-4616-849f-9f91c502ccdf",
   "metadata": {},
   "outputs": [],
   "source": [
    "class Encoder(nn.Module):\n",
    "  def __init__(self, z_dim):\n",
    "    super().__init__()\n",
    "    self.lr = nn.Linear(28*28, 300)\n",
    "    self.lr2 = nn.Linear(300, 100)\n",
    "    self.lr_ave = nn.Linear(100, z_dim)   #average\n",
    "    self.lr_dev = nn.Linear(100, z_dim)   #log(sigma^2)\n",
    "    self.relu = nn.ReLU()\n",
    "  \n",
    "  def forward(self, x):\n",
    "    x = self.lr(x)\n",
    "    x = self.relu(x)\n",
    "    x = self.lr2(x)\n",
    "    x = self.relu(x)\n",
    "    ave = self.lr_ave(x)    #average\n",
    "    log_dev = self.lr_dev(x)    #log(sigma^2)\n",
    "\n",
    "    ep = torch.randn_like(ave)   #平均0分散1の正規分布に従い生成されるz_dim次元の乱数\n",
    "    z = ave + torch.exp(log_dev / 2) * ep   #再パラメータ化トリック\n",
    "    return z, ave, log_dev\n",
    "\n",
    "class Decoder(nn.Module):\n",
    "  def __init__(self, z_dim):\n",
    "    super().__init__()\n",
    "    self.lr = nn.Linear(z_dim, 100)\n",
    "    self.lr2 = nn.Linear(100, 300)\n",
    "    self.lr3 = nn.Linear(300, 28*28)\n",
    "    self.relu = nn.ReLU()\n",
    "  \n",
    "  def forward(self, z):\n",
    "    x = self.lr(z)\n",
    "    x = self.relu(x)\n",
    "    x = self.lr2(x)\n",
    "    x = self.relu(x)\n",
    "    x = self.lr3(x)\n",
    "    x = torch.sigmoid(x)   #MNISTのピクセル値の分布はベルヌーイ分布に近いと考えられるので、シグモイド関数を適用します。\n",
    "    return x\n",
    "\n",
    "class VAE(nn.Module):\n",
    "  def __init__(self, z_dim):\n",
    "    super().__init__()\n",
    "    self.encoder = Encoder(z_dim)\n",
    "    self.decoder = Decoder(z_dim)\n",
    "  \n",
    "  def forward(self, x):\n",
    "    z, ave, log_dev = self.encoder(x)\n",
    "    x = self.decoder(z)\n",
    "    return x, z, ave, log_dev\n"
   ]
  },
  {
   "cell_type": "markdown",
   "id": "02f8a31c-0e30-4ab1-aa24-7ee2bb73d50a",
   "metadata": {},
   "source": [
    "## 損失関数"
   ]
  },
  {
   "cell_type": "code",
   "execution_count": 7,
   "id": "8645778a-5ccd-4603-a1f1-a6026e12909a",
   "metadata": {},
   "outputs": [],
   "source": [
    "def criterion(predict, target, ave, log_dev):\n",
    "  bce_loss = F.binary_cross_entropy(predict, target, reduction='sum')\n",
    "  kl_loss = -0.5 * torch.sum(1 + log_dev - ave**2 - log_dev.exp())\n",
    "  loss = bce_loss + kl_loss\n",
    "  return loss"
   ]
  },
  {
   "cell_type": "markdown",
   "id": "f088b273-1999-49a6-9b6b-d5d7dd171bc0",
   "metadata": {},
   "source": [
    "## 訓練"
   ]
  },
  {
   "cell_type": "code",
   "execution_count": null,
   "id": "73667032-fe40-4545-8cb1-3da01c9ab43a",
   "metadata": {},
   "outputs": [],
   "source": []
  }
 ],
 "metadata": {
  "kernelspec": {
   "display_name": "Python 3 (ipykernel)",
   "language": "python",
   "name": "python3"
  },
  "language_info": {
   "codemirror_mode": {
    "name": "ipython",
    "version": 3
   },
   "file_extension": ".py",
   "mimetype": "text/x-python",
   "name": "python",
   "nbconvert_exporter": "python",
   "pygments_lexer": "ipython3",
   "version": "3.10.12"
  }
 },
 "nbformat": 4,
 "nbformat_minor": 5
}
